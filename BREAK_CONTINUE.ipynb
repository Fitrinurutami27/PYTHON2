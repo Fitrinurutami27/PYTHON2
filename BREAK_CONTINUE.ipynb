{
 "cells": [
  {
   "cell_type": "code",
   "execution_count": null,
   "id": "d55a1206",
   "metadata": {},
   "outputs": [],
   "source": [
    "BREAK"
   ]
  },
  {
   "cell_type": "code",
   "execution_count": 1,
   "id": "fb965152",
   "metadata": {},
   "outputs": [
    {
     "name": "stdout",
     "output_type": "stream",
     "text": [
      "d\n",
      "a\n",
      "t\n",
      "a\n"
     ]
    }
   ],
   "source": [
    "for i in \"data analyst\":\n",
    "    if i == \" \":\n",
    "        break\n",
    "    print(i)"
   ]
  },
  {
   "cell_type": "code",
   "execution_count": null,
   "id": "d5f64386",
   "metadata": {},
   "outputs": [],
   "source": [
    "CONTINUE"
   ]
  },
  {
   "cell_type": "code",
   "execution_count": 2,
   "id": "8c0d6363",
   "metadata": {},
   "outputs": [
    {
     "name": "stdout",
     "output_type": "stream",
     "text": [
      " \n",
      "d\n",
      "t\n",
      " \n",
      "n\n",
      "l\n",
      "y\n",
      "s\n",
      "t\n"
     ]
    }
   ],
   "source": [
    "for i in \" data analyst\":\n",
    "    if i == \"a\":\n",
    "        continue\n",
    "    print(i)"
   ]
  },
  {
   "cell_type": "code",
   "execution_count": 15,
   "id": "94e06bfc",
   "metadata": {},
   "outputs": [
    {
     "name": "stdout",
     "output_type": "stream",
     "text": [
      " \n",
      "f\n",
      "t\n",
      "r\n",
      " \n",
      "n\n",
      "u\n",
      "r\n",
      " \n",
      "u\n",
      "t\n",
      "a\n"
     ]
    }
   ],
   "source": [
    "for i in \" fitri nur utami\":\n",
    "    if i == \"i\":\n",
    "        continue\n",
    "    elif i == \"m\":\n",
    "        break \n",
    "    else: \n",
    "        print(i)"
   ]
  },
  {
   "cell_type": "code",
   "execution_count": null,
   "id": "9b9d3a7d",
   "metadata": {},
   "outputs": [],
   "source": []
  },
  {
   "cell_type": "code",
   "execution_count": null,
   "id": "27dca935",
   "metadata": {},
   "outputs": [],
   "source": []
  },
  {
   "cell_type": "markdown",
   "id": "fa2de0c0",
   "metadata": {},
   "source": [
    "TASK2 SENIN #task conditional break"
   ]
  },
  {
   "cell_type": "code",
   "execution_count": null,
   "id": "f8540942",
   "metadata": {},
   "outputs": [],
   "source": [
    "fruits = [\"apel\", \"pisang\", \"ceri\", \"semangka\", \"mangga\"]\n",
    "\n",
    "for fruit in fruits:\n",
    "    if fruit == \"pisang\":\n",
    "        break\n",
    "    print(\"Saya suka\", fruit)"
   ]
  },
  {
   "cell_type": "code",
   "execution_count": 9,
   "id": "8e83cbd6",
   "metadata": {},
   "outputs": [
    {
     "name": "stdout",
     "output_type": "stream",
     "text": [
      "Saya suka apel\n",
      "Saya suka ceri\n",
      "Saya suka semangka\n"
     ]
    }
   ],
   "source": [
    "\n",
    "fruits = [\"apel\", \"pisang\", \"ceri\", \"semangka\", \"mangga\"]\n",
    "\n",
    "for fruit in fruits:\n",
    "    if fruit == \"pisang\":\n",
    "        continue\n",
    "    if fruit == \"mangga\":\n",
    "        break\n",
    "    print(\"Saya suka\", fruit)"
   ]
  },
  {
   "cell_type": "code",
   "execution_count": null,
   "id": "3c76f949",
   "metadata": {},
   "outputs": [],
   "source": [
    "TASK3 SENIN #task pada condional if,else,for "
   ]
  },
  {
   "cell_type": "code",
   "execution_count": 30,
   "id": "c202ed14",
   "metadata": {},
   "outputs": [
    {
     "name": "stdout",
     "output_type": "stream",
     "text": [
      "angka ganjil = 1\n",
      "angka genap = 2\n"
     ]
    }
   ],
   "source": [
    "angka = [1, 2, 3, 4, 5, 6, 7, 8, 9]\n",
    "for number in angka:\n",
    "    if number % 2 == 0:\n",
    "        print(\"angka genap =\", number)\n",
    "        break\n",
    "    else:\n",
    "        print(\"angka ganjil =\", number)\n",
    "        continue\n",
    "    print(angka)"
   ]
  },
  {
   "cell_type": "markdown",
   "id": "d25da4e3",
   "metadata": {},
   "source": [
    "task3 senin(daniel)"
   ]
  },
  {
   "cell_type": "code",
   "execution_count": 29,
   "id": "d2734929",
   "metadata": {},
   "outputs": [
    {
     "name": "stdout",
     "output_type": "stream",
     "text": [
      "1\n",
      "2\n",
      "3\n",
      "4\n",
      "Dijumpai bilangan habis dibagi 5 tetapi bukan habis dibagi 3\n",
      "6\n",
      "7\n",
      "8\n",
      "9\n",
      "Dijumpai bilangan habis dibagi 5 tetapi bukan habis dibagi 3\n",
      "11\n",
      "12\n",
      "13\n",
      "14\n",
      "Dijumpai bilangan habis dibagi 3 dan 5\n"
     ]
    }
   ],
   "source": [
    "# Task 3\n",
    "\n",
    "for nomor in range(1, 21):\n",
    "    if nomor % 5 == 0:\n",
    "        if nomor % 3 == 0:\n",
    "            print(\"Dijumpai bilangan habis dibagi 3 dan 5\")\n",
    "            break\n",
    "        else:\n",
    "            print(\"Dijumpai bilangan habis dibagi 5 tetapi bukan habis dibagi 3\")\n",
    "            continue\n",
    "    print(nomor)"
   ]
  },
  {
   "cell_type": "code",
   "execution_count": null,
   "id": "f10654dc",
   "metadata": {},
   "outputs": [],
   "source": []
  }
 ],
 "metadata": {
  "kernelspec": {
   "display_name": "Python 3 (ipykernel)",
   "language": "python",
   "name": "python3"
  },
  "language_info": {
   "codemirror_mode": {
    "name": "ipython",
    "version": 3
   },
   "file_extension": ".py",
   "mimetype": "text/x-python",
   "name": "python",
   "nbconvert_exporter": "python",
   "pygments_lexer": "ipython3",
   "version": "3.11.4"
  }
 },
 "nbformat": 4,
 "nbformat_minor": 5
}
