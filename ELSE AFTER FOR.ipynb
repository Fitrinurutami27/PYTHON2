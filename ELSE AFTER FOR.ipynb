{
 "cells": [
  {
   "cell_type": "markdown",
   "id": "2a79b30a",
   "metadata": {},
   "source": [
    "Else setelah for\n",
    "\n",
    "fungsi else setelah for adalah diutamakan pada perulangan yang bersifat pencarian.untuk memberikan "
   ]
  },
  {
   "cell_type": "code",
   "execution_count": 1,
   "id": "027a1545",
   "metadata": {},
   "outputs": [
    {
     "name": "stdout",
     "output_type": "stream",
     "text": [
      "1 adalah bukan genap\n",
      "2 adalah genap\n",
      "3 adalah bukan genap\n",
      "4 adalah genap\n",
      "5 adalah bukan genap\n",
      "6 adalah genap\n"
     ]
    }
   ],
   "source": [
    "for i in range(1,7):\n",
    "    if i % 2 == 0:\n",
    "        print(\"{} adalah genap\".format(i))\n",
    "    else:\n",
    "        print(\"{} adalah bukan genap\".format(i))"
   ]
  },
  {
   "cell_type": "markdown",
   "id": "73fda76e",
   "metadata": {},
   "source": [
    "TASK1 SENIN ELSE AFTER FOR"
   ]
  },
  {
   "cell_type": "code",
   "execution_count": 16,
   "id": "ae1a81fc",
   "metadata": {},
   "outputs": [
    {
     "name": "stdout",
     "output_type": "stream",
     "text": [
      "Bilangan terbesar adalah: 28\n",
      "Bilangan terkecil adalah: 6\n"
     ]
    }
   ],
   "source": [
    " # Task 1\n",
    "numbers = [17, 22, 28, 6, 10, 18]\n",
    "max_num = numbers[0]\n",
    "min_num = numbers[0]\n",
    "\n",
    "for num in numbers:\n",
    "    if num > max_num:\n",
    "        max_num = num\n",
    "    elif num < min_num:\n",
    "        min_num = num\n",
    "else:\n",
    "    print(\"Bilangan terbesar adalah:\", max_num)\n",
    "    print(\"Bilangan terkecil adalah:\", min_num)"
   ]
  }
 ],
 "metadata": {
  "kernelspec": {
   "display_name": "Python 3 (ipykernel)",
   "language": "python",
   "name": "python3"
  },
  "language_info": {
   "codemirror_mode": {
    "name": "ipython",
    "version": 3
   },
   "file_extension": ".py",
   "mimetype": "text/x-python",
   "name": "python",
   "nbconvert_exporter": "python",
   "pygments_lexer": "ipython3",
   "version": "3.11.4"
  }
 },
 "nbformat": 4,
 "nbformat_minor": 5
}
