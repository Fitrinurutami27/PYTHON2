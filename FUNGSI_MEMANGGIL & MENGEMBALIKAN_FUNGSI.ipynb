{
 "cells": [
  {
   "cell_type": "markdown",
   "id": "9773307f",
   "metadata": {},
   "source": [
    "FUNGSI\n",
    "\n",
    "- fungsi digunakan untuk menyimpan syntax / rumus yang sering di gunakan"
   ]
  },
  {
   "cell_type": "code",
   "execution_count": null,
   "id": "bf82c597",
   "metadata": {},
   "outputs": [],
   "source": [
    "def pangkat(x):\n",
    "    kuadrat = x**2 #funsi pangkat dua\n",
    "    return kuadrat"
   ]
  },
  {
   "cell_type": "code",
   "execution_count": null,
   "id": "1ede41e2",
   "metadata": {},
   "outputs": [],
   "source": [
    "pangkat(3)"
   ]
  },
  {
   "cell_type": "code",
   "execution_count": null,
   "id": "067d1208",
   "metadata": {},
   "outputs": [],
   "source": [
    "def pangkat_tiga(x):\n",
    "    kubik = x**3 #fungsi pangkat tiga\n",
    "    print(kubik)"
   ]
  },
  {
   "cell_type": "code",
   "execution_count": null,
   "id": "299928a4",
   "metadata": {},
   "outputs": [],
   "source": [
    "pangkat_tiga(3)"
   ]
  },
  {
   "cell_type": "raw",
   "id": "fce148eb",
   "metadata": {},
   "source": [
    "RETURN\n",
    "\n",
    "pernyataan return akan membuat eksekusi program keluar dari fungsi saat itu,sekaligus mengembalikan nilai tertentu."
   ]
  },
  {
   "cell_type": "code",
   "execution_count": 29,
   "id": "7673d2fc",
   "metadata": {},
   "outputs": [],
   "source": [
    "def tambah(x,y):\n",
    "    plus = x + y #fungsi penjumlahan\n",
    "    print (\"hasil penjumlahan adalah {}\".format(plus))\n",
    "    return plus"
   ]
  },
  {
   "cell_type": "code",
   "execution_count": 30,
   "id": "d1d55eea",
   "metadata": {},
   "outputs": [
    {
     "name": "stdout",
     "output_type": "stream",
     "text": [
      "hasil penjumlahan adalah 5\n"
     ]
    },
    {
     "data": {
      "text/plain": [
       "5"
      ]
     },
     "execution_count": 30,
     "metadata": {},
     "output_type": "execute_result"
    }
   ],
   "source": [
    "tambah(2,3)"
   ]
  },
  {
   "cell_type": "code",
   "execution_count": 31,
   "id": "5d6be280",
   "metadata": {},
   "outputs": [
    {
     "name": "stdout",
     "output_type": "stream",
     "text": [
      "hasil penjumlahan adalah 5\n",
      "hasil dari return adalah 5\n"
     ]
    }
   ],
   "source": [
    "output = tambah(2,3)\n",
    "print(\"hasil dari return adalah {}\".format(output))"
   ]
  },
  {
   "cell_type": "code",
   "execution_count": null,
   "id": "1751524e",
   "metadata": {},
   "outputs": [],
   "source": []
  },
  {
   "cell_type": "markdown",
   "id": "052c3d6d",
   "metadata": {},
   "source": [
    "TASK1- HARI JUMAT"
   ]
  },
  {
   "cell_type": "code",
   "execution_count": 27,
   "id": "4a89a760",
   "metadata": {},
   "outputs": [],
   "source": [
    "def tambahan(a, b): #syntax done\n",
    "    hasil = a + b #fungsi penjumlahan\n",
    "    return hasil"
   ]
  },
  {
   "cell_type": "code",
   "execution_count": 28,
   "id": "ca0d82ff",
   "metadata": {},
   "outputs": [
    {
     "data": {
      "text/plain": [
       "8"
      ]
     },
     "execution_count": 28,
     "metadata": {},
     "output_type": "execute_result"
    }
   ],
   "source": [
    "tambahan(5, 3)"
   ]
  },
  {
   "cell_type": "code",
   "execution_count": null,
   "id": "a8f45d9e",
   "metadata": {},
   "outputs": [],
   "source": [
    "def salam(nama=\"pengguna\"): #syntax done\n",
    "    print(f\"halo, {nama}!\") #fungsi print"
   ]
  },
  {
   "cell_type": "code",
   "execution_count": null,
   "id": "b935ba35",
   "metadata": {},
   "outputs": [],
   "source": [
    "salam(\"daniel\")"
   ]
  },
  {
   "cell_type": "markdown",
   "id": "bb30b10d",
   "metadata": {},
   "source": [
    "TASK2 - HARI JUMAT"
   ]
  },
  {
   "cell_type": "code",
   "execution_count": 25,
   "id": "1e63d70c",
   "metadata": {},
   "outputs": [],
   "source": [
    "def operator(a, b):\n",
    "    perkalian = a*b\n",
    "    pembagian = a/b\n",
    "    print(\"hasil pekalian adalah {}\".format(perkalian))\n",
    "    print(\"hasil pembagian adalah {}\".format(pembagian))\n",
    "    return perkalian, pembagian"
   ]
  },
  {
   "cell_type": "code",
   "execution_count": 26,
   "id": "8b51cfd8",
   "metadata": {},
   "outputs": [
    {
     "name": "stdout",
     "output_type": "stream",
     "text": [
      "hasil pekalian adalah 32\n",
      "hasil pembagian adalah 2.0\n",
      "hasil return adalah (32, 2.0)\n"
     ]
    }
   ],
   "source": [
    "hasil = operator(8, 4)\n",
    "print(\"hasil return adalah {}\".format(hasil))"
   ]
  },
  {
   "cell_type": "code",
   "execution_count": null,
   "id": "c57c14b3",
   "metadata": {},
   "outputs": [],
   "source": []
  },
  {
   "cell_type": "code",
   "execution_count": null,
   "id": "344eb785",
   "metadata": {},
   "outputs": [],
   "source": []
  }
 ],
 "metadata": {
  "kernelspec": {
   "display_name": "Python 3 (ipykernel)",
   "language": "python",
   "name": "python3"
  },
  "language_info": {
   "codemirror_mode": {
    "name": "ipython",
    "version": 3
   },
   "file_extension": ".py",
   "mimetype": "text/x-python",
   "name": "python",
   "nbconvert_exporter": "python",
   "pygments_lexer": "ipython3",
   "version": "3.11.4"
  }
 },
 "nbformat": 4,
 "nbformat_minor": 5
}
