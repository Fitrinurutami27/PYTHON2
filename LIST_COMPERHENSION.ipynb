{
 "cells": [
  {
   "cell_type": "markdown",
   "id": "06247bc5",
   "metadata": {},
   "source": [
    "LIST COMPERHENSION (membuat list dengan in line loop dan if)\n",
    "\n",
    "hal yang perlu di lakukan terlebih dahulu yaitu membuat list baru dari operasi list sebelumnya.\n",
    "\n",
    "list comperhension adalah salah satu car untuk menghasilkan list baru berdasarkan list atau iterables yang sudah ada sebelumnya."
   ]
  },
  {
   "cell_type": "code",
   "execution_count": null,
   "id": "3d831f7a",
   "metadata": {},
   "outputs": [],
   "source": [
    "angka = [2,3,4]"
   ]
  },
  {
   "cell_type": "code",
   "execution_count": null,
   "id": "d2cb7423",
   "metadata": {},
   "outputs": [],
   "source": [
    "kubik = []"
   ]
  },
  {
   "cell_type": "code",
   "execution_count": null,
   "id": "bfdd1263",
   "metadata": {},
   "outputs": [],
   "source": [
    "for i in angka:\n",
    "    kubik.append(i**3)\n",
    "print (kubik)"
   ]
  },
  {
   "cell_type": "code",
   "execution_count": null,
   "id": "211efd54",
   "metadata": {},
   "outputs": [],
   "source": [
    "kubik"
   ]
  },
  {
   "cell_type": "markdown",
   "id": "7955bd15",
   "metadata": {},
   "source": [
    "PENULISAN CARA LAIN\n",
    "\n",
    "new_list = [ expression for loop one or more condition]"
   ]
  },
  {
   "cell_type": "code",
   "execution_count": 1,
   "id": "31834870",
   "metadata": {},
   "outputs": [],
   "source": [
    "angka = [2,3,4]"
   ]
  },
  {
   "cell_type": "code",
   "execution_count": 2,
   "id": "9d25100d",
   "metadata": {},
   "outputs": [],
   "source": [
    "kubik = [i**3 for i in angka]"
   ]
  },
  {
   "cell_type": "code",
   "execution_count": 3,
   "id": "bb1be6fe",
   "metadata": {},
   "outputs": [
    {
     "name": "stdout",
     "output_type": "stream",
     "text": [
      "[8, 27, 64]\n"
     ]
    }
   ],
   "source": [
    "print(kubik)"
   ]
  },
  {
   "cell_type": "code",
   "execution_count": null,
   "id": "87307dab",
   "metadata": {},
   "outputs": [],
   "source": [
    "abc = ['a','b','c']\n",
    "cde = ['c','d','e']\n",
    "\n",
    "duplikat = []\n",
    "\n",
    "for i in abc:\n",
    "    for j in cde:\n",
    "        if i == j:\n",
    "            duplikat.append(i)\n",
    "print (duplikat)"
   ]
  },
  {
   "cell_type": "code",
   "execution_count": null,
   "id": "0378cba0",
   "metadata": {},
   "outputs": [],
   "source": [
    "abc = ['a','b','c']\n",
    "cde = ['c','d','e']\n",
    "\n",
    "duplikat = [i for i in abc for j in cde if i == j]\n",
    "\n",
    "print(duplikat)"
   ]
  },
  {
   "cell_type": "code",
   "execution_count": 5,
   "id": "fc5e5d3b",
   "metadata": {},
   "outputs": [
    {
     "name": "stdout",
     "output_type": "stream",
     "text": [
      "['DATA', 'SCIENCE']\n"
     ]
    }
   ],
   "source": [
    "data = [\"data\", \"science\"]\n",
    "\n",
    "upper = [_.upper() for _ in data]\n",
    "\n",
    "print(upper)"
   ]
  },
  {
   "cell_type": "markdown",
   "id": "78cfd6a7",
   "metadata": {},
   "source": [
    "- garis bawah(underscore) termasuk penamaan variabel yang valid\n",
    "- secara umum \"_\" biasa digunakan sebagai throw away variable (variabel tidak penting)"
   ]
  },
  {
   "cell_type": "code",
   "execution_count": 6,
   "id": "b0d004ea",
   "metadata": {},
   "outputs": [
    {
     "name": "stdout",
     "output_type": "stream",
     "text": [
      "[[1, 1], [9, 27], [25, 125], [49, 343]]\n"
     ]
    }
   ],
   "source": [
    "angka = range(1, 8, 2)\n",
    "kuadrat_kubik = [[_**2, _**3] for _ in angka]\n",
    "print(kuadrat_kubik)"
   ]
  },
  {
   "cell_type": "markdown",
   "id": "9c65765e",
   "metadata": {},
   "source": [
    "TASK1_HARI RABU"
   ]
  },
  {
   "cell_type": "code",
   "execution_count": null,
   "id": "0594fa11",
   "metadata": {},
   "outputs": [],
   "source": [
    "angka = [10,20,44]"
   ]
  },
  {
   "cell_type": "code",
   "execution_count": null,
   "id": "934c6be5",
   "metadata": {},
   "outputs": [],
   "source": [
    "kuadrat = []"
   ]
  },
  {
   "cell_type": "code",
   "execution_count": null,
   "id": "5119feae",
   "metadata": {},
   "outputs": [],
   "source": [
    "for i in angka: #contoh done\n",
    "    kuadrat.append(i**2)\n",
    "print(kuadrat)"
   ]
  },
  {
   "cell_type": "markdown",
   "id": "ee4b70d1",
   "metadata": {},
   "source": [
    "TASK2_hari rabu"
   ]
  },
  {
   "cell_type": "code",
   "execution_count": 3,
   "id": "a58ffe1d",
   "metadata": {},
   "outputs": [
    {
     "name": "stdout",
     "output_type": "stream",
     "text": [
      "[5.0, 3.0, 2.0, 7.5, 4.5, 3.0, 2.5, 1.5, 1.0]\n"
     ]
    }
   ],
   "source": [
    "alas = [2,3,1] #syntax done\n",
    "tinggi = [5,3,2]\n",
    "\n",
    "luas_segitiga = []\n",
    "\n",
    "\n",
    "for i in alas:\n",
    "    for j in tinggi: \n",
    "        luas_segitiga.append(0.5*i*j)\n",
    "        \n",
    "print(luas_segitiga)"
   ]
  },
  {
   "cell_type": "code",
   "execution_count": 2,
   "id": "6cb0a3cd",
   "metadata": {},
   "outputs": [
    {
     "name": "stdout",
     "output_type": "stream",
     "text": [
      "[2, 3, 3, 7, 7, 7]\n"
     ]
    }
   ],
   "source": [
    "angka1 = [2, 3, 7] #sytax done yang menggunakan for,if,elif\n",
    "angka2 = [5, 3, 2]\n",
    "operator = []\n",
    "\n",
    "for x in angka1:\n",
    "    for y in angka2:\n",
    "        if x > y:\n",
    "            operator.append(x)\n",
    "        elif x == y:\n",
    "            operator.append(x)\n",
    "    \n",
    "\n",
    "print(operator)"
   ]
  }
 ],
 "metadata": {
  "kernelspec": {
   "display_name": "Python 3 (ipykernel)",
   "language": "python",
   "name": "python3"
  },
  "language_info": {
   "codemirror_mode": {
    "name": "ipython",
    "version": 3
   },
   "file_extension": ".py",
   "mimetype": "text/x-python",
   "name": "python",
   "nbconvert_exporter": "python",
   "pygments_lexer": "ipython3",
   "version": "3.11.4"
  }
 },
 "nbformat": 4,
 "nbformat_minor": 5
}
