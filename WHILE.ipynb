{
 "cells": [
  {
   "cell_type": "markdown",
   "id": "aee6771f",
   "metadata": {},
   "source": [
    "WHILE\n",
    "- while digunakan untuk mengeksekusi statement selama kondisi yang di berikan terpenuhi (true)\n",
    "- kondisi dapat berupa expression apapun\n",
    "- saat kodisi yang dihasilkan false program akanmelanjutkan kebaris setelah blok statement"
   ]
  },
  {
   "cell_type": "code",
   "execution_count": 1,
   "id": "637910b0",
   "metadata": {},
   "outputs": [
    {
     "name": "stdout",
     "output_type": "stream",
     "text": [
      "1\n",
      "bilangan 1\n",
      "bilangan 2\n"
     ]
    }
   ],
   "source": [
    "angka = int(input())\n",
    "\n",
    "while(angka < 3):\n",
    "    print(\"bilangan {}\".format(angka))\n",
    "    angka = angka + 1 #sebagai batas run"
   ]
  },
  {
   "cell_type": "code",
   "execution_count": 1,
   "id": "60203aa4",
   "metadata": {},
   "outputs": [
    {
     "name": "stdout",
     "output_type": "stream",
     "text": [
      "2\n",
      "4\n"
     ]
    }
   ],
   "source": [
    "angka = int(input())\n",
    "\n",
    "while (angka < 10):\n",
    "    angka = angka + 2\n",
    "    if angka == 6:\n",
    "        break\n",
    "    print(angka)\n",
    "else:\n",
    "    print(\"loop selesai\")"
   ]
  },
  {
   "cell_type": "code",
   "execution_count": null,
   "id": "24cf39ab",
   "metadata": {},
   "outputs": [],
   "source": [
    "angka = int(input())\n",
    "\n",
    "while (angka > 0):\n",
    "    angka = angka - 2\n",
    "    print(angka)\n",
    "else:\n",
    "    print(\"loop selesai\")"
   ]
  },
  {
   "cell_type": "markdown",
   "id": "e2873041",
   "metadata": {},
   "source": [
    "TASK1-HARI SELASA"
   ]
  },
  {
   "cell_type": "code",
   "execution_count": null,
   "id": "8b66e8fa",
   "metadata": {},
   "outputs": [],
   "source": [
    "angka = int(input())\n",
    "\n",
    "while(angka < 15):\n",
    "    print(\"bilangan {}\".format(angka))  \n",
    "    angka = angka + 5         \n"
   ]
  },
  {
   "cell_type": "code",
   "execution_count": 5,
   "id": "2019d7fb",
   "metadata": {},
   "outputs": [
    {
     "name": "stdout",
     "output_type": "stream",
     "text": [
      "1\n",
      "3 bilangan yang bukan genap\n",
      "5\n",
      "7 bilangan yang bukan genap\n",
      "9 bilangan yang bukan genap\n",
      "11 bilangan yang bukan genap\n",
      "13 bilangan yang bukan genap\n",
      "15 bilangan yang bukan genap\n",
      "stop\n"
     ]
    }
   ],
   "source": [
    "num = int(input()) #syntax sudah bener\n",
    "while num < 15:\n",
    "    num = num + 1\n",
    "    if num % 2 == 0:\n",
    "        continue\n",
    "        print(\"num {}\".format(num))\n",
    "    elif num == 5:\n",
    "        print(\"{}\".format(num))\n",
    "        break\n",
    "    else:\n",
    "        print(\"{} bilangan yang bukan genap\".format(num))\n",
    "        \n",
    "else:\n",
    "    print(\"stop\")"
   ]
  },
  {
   "cell_type": "markdown",
   "id": "3ecd470e",
   "metadata": {},
   "source": [
    "TASK2-HARI SELASA"
   ]
  },
  {
   "cell_type": "code",
   "execution_count": 1,
   "id": "c77bbdb7",
   "metadata": {},
   "outputs": [
    {
     "name": "stdout",
     "output_type": "stream",
     "text": [
      "Masukkan sebuah angka: 5\n",
      "5 adalah kelipatan 5.\n"
     ]
    }
   ],
   "source": [
    "angka = int(input(\"Masukkan sebuah angka: \"))\n",
    "while angka > 0:\n",
    "    if angka % 5 == 0:\n",
    "        print(f\"{angka} adalah kelipatan 5.\")\n",
    "        break\n",
    "    elif angka % 2 == 0:\n",
    "        print(f\"{angka} adalah bilangan genap.\")\n",
    "    else:\n",
    "        print(f\"{angka} adalah bilangan ganjil yang bukan kelipatan 5.\")\n",
    "    angka = int(input(\"Masukkan angka lain (0 untuk berhenti): \"))\n",
    "else:\n",
    "    print(\"Anda telah keluar dari perulangan.\")"
   ]
  },
  {
   "cell_type": "code",
   "execution_count": null,
   "id": "cd3a77d3",
   "metadata": {},
   "outputs": [],
   "source": [
    "angka = int(input()) #syntax sudah benar\n",
    "\n",
    "while (angka > 0):\n",
    "    angka = angka + 2\n",
    "    angka % 2 == 0\n",
    "    if angka == 10:\n",
    "        break\n",
    "    print(angka)\n",
    "else :\n",
    "    print(\"stop\")"
   ]
  },
  {
   "cell_type": "code",
   "execution_count": 2,
   "id": "561d85d0",
   "metadata": {},
   "outputs": [
    {
     "name": "stdout",
     "output_type": "stream",
     "text": [
      "1\n",
      "2\n",
      "weird\n",
      "3\n",
      "not weird\n",
      "8\n",
      "weird\n",
      "9\n",
      "not weird\n",
      "20\n",
      "weird\n",
      "23\n",
      "not weird\n",
      "stop loop\n"
     ]
    }
   ],
   "source": [
    "angka = int(input())\n",
    "\n",
    "while angka < 150:\n",
    "    if angka % 2 == 0:\n",
    "        print(\"weird\")\n",
    "    else:\n",
    "        if 3 <= angka <= 10:\n",
    "            print(\"not weird\")\n",
    "        elif 20 <= angka <= 100:\n",
    "            print(\"not weird\")\n",
    "            break\n",
    "    angka = int(input())  \n",
    "\n",
    "print(\"stop loop\")\n"
   ]
  }
 ],
 "metadata": {
  "kernelspec": {
   "display_name": "Python 3 (ipykernel)",
   "language": "python",
   "name": "python3"
  },
  "language_info": {
   "codemirror_mode": {
    "name": "ipython",
    "version": 3
   },
   "file_extension": ".py",
   "mimetype": "text/x-python",
   "name": "python",
   "nbconvert_exporter": "python",
   "pygments_lexer": "ipython3",
   "version": "3.11.4"
  }
 },
 "nbformat": 4,
 "nbformat_minor": 5
}
